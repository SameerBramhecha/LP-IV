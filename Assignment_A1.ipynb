{
 "cells": [
  {
   "cell_type": "code",
   "execution_count": 1,
   "id": "8952297a",
   "metadata": {},
   "outputs": [],
   "source": [
    "import re\n",
    "import datetime"
   ]
  },
  {
   "cell_type": "code",
   "execution_count": 2,
   "id": "0007c783",
   "metadata": {},
   "outputs": [],
   "source": [
    "def parse_email_header(email_header):\n",
    "  \"\"\"Parses an email header and returns a dictionary of information about the email.\n",
    "\n",
    "  Args:\n",
    "    email_header: A string containing the email header.\n",
    "\n",
    "  Returns:\n",
    "    A dictionary of information about the email, including the following keys:\n",
    "      * from: The email address of the sender.\n",
    "      * to: The email address of the recipient.\n",
    "      * date: The date and time the email was sent.\n",
    "      * subject: The subject line of the email.\n",
    "      * message_id: The unique identifier for the email.\n",
    "  \"\"\"\n",
    "\n",
    "  email_header_dict = {}\n",
    "\n",
    "  # Extract the from, to, date, subject, and message_id fields from the email header.\n",
    "  for line in email_header.splitlines():\n",
    "    match = re.match(r'^(From|To|Date|Subject|Message-ID):\\s+(.*)$', line)\n",
    "    if match:\n",
    "      email_header_dict[match.group(1).lower()] = match.group(2)\n",
    "\n",
    "  # Convert the date and time field to a datetime object.\n",
    "  email_header_dict['date'] = datetime.datetime.strptime(email_header_dict['date'], '%a, %d %b %Y %H:%M:%S %Z')\n",
    "\n",
    "  return email_header_dict\n"
   ]
  },
  {
   "cell_type": "code",
   "execution_count": 3,
   "id": "c6d705c6",
   "metadata": {},
   "outputs": [],
   "source": [
    "def investigate_email_crime(email_header):\n",
    "  \"\"\"Investigates an email crime.\n",
    "\n",
    "  Args:\n",
    "    email_header: A string containing the email header.\n",
    "\n",
    "  Returns:\n",
    "    A dictionary of information about the email crime, including the following keys:\n",
    "      * suspicious_activity: A list of suspicious activity that was found.\n",
    "      * verdict: A verdict of whether the email is likely to be fraudulent or not.\n",
    "  \"\"\"\n",
    "\n",
    "  # Get the email header dictionary.\n",
    "  email_header_dict = parse_email_header(email_header)\n",
    "\n",
    "  # Look for suspicious activity.\n",
    "  suspicious_activity = []\n",
    "  if email_header_dict['date'] > datetime.datetime.now():\n",
    "    suspicious_activity.append('The email is dated in the future.')\n",
    "  if ('phishing' in email_header_dict['subject']) or ('scam' in email_header_dict['subject']):\n",
    "    suspicious_activity.append('The subject line contains phishing or scam keywords.')\n",
    "    \n",
    "  # Render a verdict.\n",
    "  verdict = 'The email is likely to be fraudulent.' if len(suspicious_activity) > 0 else 'The email is likely to be legitimate.'\n",
    "\n",
    "  return {'suspicious_activity': suspicious_activity, 'verdict': verdict}"
   ]
  },
  {
   "cell_type": "code",
   "execution_count": 8,
   "id": "a2089a0c",
   "metadata": {},
   "outputs": [],
   "source": [
    "email_header = \"\"\"\n",
    "Date: Mon, 25 Sep 2023 21:53:41 GMT\n",
    "Message-ID: <CADmSYyt0teF6o+xEmHXAEWh2=tWsacaduQD_qPBHVcQxyw3bOg@mail.gmail.com>\n",
    "Subject: Testing Code for Assignment\n",
    "From: Sameer Bramhecha <bramhechas89@gmail.com>\n",
    "To: bramhechasameer@gmail.com\n",
    "\"\"\""
   ]
  },
  {
   "cell_type": "code",
   "execution_count": 9,
   "id": "692bba44",
   "metadata": {},
   "outputs": [
    {
     "name": "stdout",
     "output_type": "stream",
     "text": [
      "{'suspicious_activity': [], 'verdict': 'The email is likely to be legitimate.'}\n"
     ]
    }
   ],
   "source": [
    "investigation_results = investigate_email_crime(email_header)\n",
    "\n",
    "print(investigation_results)"
   ]
  },
  {
   "cell_type": "code",
   "execution_count": null,
   "id": "fc8b42c4",
   "metadata": {},
   "outputs": [],
   "source": []
  }
 ],
 "metadata": {
  "kernelspec": {
   "display_name": "Python 3 (ipykernel)",
   "language": "python",
   "name": "python3"
  },
  "language_info": {
   "codemirror_mode": {
    "name": "ipython",
    "version": 3
   },
   "file_extension": ".py",
   "mimetype": "text/x-python",
   "name": "python",
   "nbconvert_exporter": "python",
   "pygments_lexer": "ipython3",
   "version": "3.9.7"
  }
 },
 "nbformat": 4,
 "nbformat_minor": 5
}
